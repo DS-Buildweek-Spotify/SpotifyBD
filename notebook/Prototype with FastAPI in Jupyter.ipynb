{
 "cells": [
  {
   "cell_type": "markdown",
   "metadata": {},
   "source": [
    "# After model.fit, before you deploy: Prototype with FastAPI in Jupyter!\n",
    "\n",
    "_By Ryan Herr, for JupyterCon 2020_\n",
    "\n",
    "You want to deploy your scikit-learn model. Now what? You can make an API for your model in Jupyter!\n",
    "\n",
    "You’ll learn [FastAPI](https://fastapi.tiangolo.com/), a Python web framework with automatic interactive docs. We’ll validate inputs with type hints, and convert to a dataframe, to make new predictions with your model. You’ll have a working API prototype, running from a notebook and ready to deploy! \n",
    "\n",
    "This talk is for people who feel comfortable in notebooks and can fit scikit-learn models. It’s about the technical process in-between developing your model and deploying it. Maybe you’ve never deployed an API before, or maybe you’ve tried Flask but you’re curious about FastAPI."
   ]
  },
  {
   "cell_type": "markdown",
   "metadata": {},
   "source": [
    "## Part 0, model.fit"
   ]
  },
  {
   "cell_type": "markdown",
   "metadata": {},
   "source": [
    " We'll use the [Palmer Penguins](https://github.com/allisonhorst/palmerpenguins) dataset. It's an alternative to [Iris](https://en.wikipedia.org/wiki/Iris_flower_data_set). Instead of using Iris flower measurements to predict one of three species, we'll use penguin measurements to predict one of three species."
   ]
  },
  {
   "cell_type": "markdown",
   "metadata": {},
   "source": [
    "<img src=\"https://raw.githubusercontent.com/allisonhorst/palmerpenguins/master/man/figures/lter_penguins.png\" width=\"50%\" />\n",
    "\n",
    "Artwork by [@allison_horst](https://twitter.com/allison_horst)"
   ]
  },
  {
   "cell_type": "markdown",
   "metadata": {},
   "source": [
    "First, load and explore the data:"
   ]
  },
  {
   "cell_type": "code",
   "execution_count": null,
   "metadata": {},
   "outputs": [],
   "source": [
    "import seaborn as sns\n",
    "penguins = sns.load_dataset('penguins')\n",
    "sns.pairplot(data=penguins, hue='species')"
   ]
  },
  {
   "cell_type": "markdown",
   "metadata": {},
   "source": [
    "Looks like Adelie penguins have less bill length. Gentoo penguins have less bill depth, more flipper length, and more body mass.\n",
    "\n",
    "So we can classify the three species using two features: bill length and another numeric feature, such as bill depth."
   ]
  },
  {
   "cell_type": "markdown",
   "metadata": {},
   "source": [
    "<img src=\"https://raw.githubusercontent.com/allisonhorst/palmerpenguins/master/man/figures/culmen_depth.png\" width=\"50%\" />\n",
    "\n",
    "Artwork by [@allison_horst](https://twitter.com/allison_horst)"
   ]
  },
  {
   "cell_type": "markdown",
   "metadata": {},
   "source": [
    "We'll select `bill_length_mm` and `bill_depth_mm` for our features, and `species` is our target. We'll use scikit-learn to fit a Logistic Regression model. \n",
    "\n",
    "Scikit-learn's implementation of Logistic Regression is regularized. We'll use cross-validation to automate the amount of regularization, after scaling the features. We can combine the scaler transformation and the model into a scikit-learn pipeline. \n",
    "\n",
    "We'll also use cross-validation to estimate how accurately the model generalizes."
   ]
  },
  {
   "cell_type": "code",
   "execution_count": null,
   "metadata": {},
   "outputs": [],
   "source": [
    "from sklearn.linear_model import LogisticRegressionCV\n",
    "from sklearn.preprocessing import StandardScaler\n",
    "from sklearn.model_selection import cross_val_score\n",
    "from sklearn.pipeline import make_pipeline\n",
    "\n",
    "features = ['bill_length_mm', 'bill_depth_mm']\n",
    "target = 'species'\n",
    "\n",
    "penguins.dropna(subset=features, inplace=True)\n",
    "X = penguins[features]\n",
    "y = penguins[target]\n",
    "\n",
    "classifier = make_pipeline(\n",
    "    StandardScaler(), \n",
    "    LogisticRegressionCV()\n",
    ")\n",
    "\n",
    "classifier.fit(X, y)\n",
    "\n",
    "scores = cross_val_score(classifier, X, y)\n",
    "avg_acc = scores.mean() * 100\n",
    "std_acc = scores.std() * 100\n",
    "print(f'Cross-Validation Accuracy: {avg_acc:.0f}% +/- {2*std_acc:.0f}%')"
   ]
  },
  {
   "cell_type": "markdown",
   "metadata": {},
   "source": [
    "So, our model seems to classify penguins nearly perfectly.\n",
    "\n",
    "Next, we'll deploy this model in a FastAPI app. "
   ]
  },
  {
   "cell_type": "markdown",
   "metadata": {},
   "source": [
    "Web apps aren't usually served from notebooks, especially temporary cloud notebooks like Binder. But it can be useful for rapid prototyping. Here's a helper function to make it possible:"
   ]
  },
  {
   "cell_type": "code",
   "execution_count": null,
   "metadata": {},
   "outputs": [],
   "source": [
    "def enable_cloud_notebook(port=8000):\n",
    "    \"\"\"\n",
    "    Enables you to run a FastAPI app from a cloud notebook.\n",
    "    Useful for rapid prototyping if you like notebooks!\n",
    "    Not needed when you develop in a local IDE or deploy \"for real.\"\n",
    "    \"\"\"\n",
    "\n",
    "    # Prevent \"RuntimeError: This event loop is already running\"\n",
    "    import nest_asyncio\n",
    "    nest_asyncio.apply()\n",
    "\n",
    "    # Get a public URL to the localhost server \n",
    "    from pyngrok import ngrok\n",
    "    print('Public URL:', ngrok.connect(port=port))"
   ]
  },
  {
   "cell_type": "markdown",
   "metadata": {},
   "source": [
    "## Part 1, random penguins, GET request"
   ]
  },
  {
   "cell_type": "markdown",
   "metadata": {},
   "source": [
    "Let's back up and begin with something like \"Hello World.\" Before we make real predictions, we’ll make random guesses."
   ]
  },
  {
   "cell_type": "code",
   "execution_count": null,
   "metadata": {},
   "outputs": [],
   "source": [
    "import random\n",
    "\n",
    "def random_penguin():\n",
    "    \"\"\"Return a random penguin species\"\"\"\n",
    "    return random.choice(['Adelie', 'Chinstrap', 'Gentoo'])"
   ]
  },
  {
   "cell_type": "markdown",
   "metadata": {},
   "source": [
    "Run this function and you'll get random penguin species."
   ]
  },
  {
   "cell_type": "code",
   "execution_count": null,
   "metadata": {},
   "outputs": [],
   "source": [
    "random_penguin()"
   ]
  },
  {
   "cell_type": "markdown",
   "metadata": {},
   "source": [
    "In the next cell, you'll see that we add a half-dozen lines of code to turn this function into a FastAPI app.\n",
    "\n",
    "These lines create a FastAPI app instance:\n",
    "\n",
    "```python\n",
    "from fastapi import FastAPI\n",
    "app = FastAPI()\n",
    "```\n",
    "\n",
    "This decorator tells FastAPI to call the function whenever the app receives a request to the `/` path using the HTTP GET method.\n",
    "\n",
    "```python\n",
    "@app.get('/')\n",
    "def random_penguin():\n",
    "    ...\n",
    "```\n",
    "\n",
    "This line enables running FastAPI from a cloud notebook:\n",
    "\n",
    "```python\n",
    "enable_cloud_notebook()\n",
    "```\n",
    "\n",
    "These lines run the app with Uvicorn, the recommended web server for FastAPI:\n",
    "\n",
    "```python\n",
    "import uvicorn\n",
    "uvicorn.run(app)\n",
    "```\n",
    "\n",
    "The code below puts it all together. Run the cell. You'll see a \"Public URL\" that ends in \"ngrok.io\". Click the link to open it in a new tab. You'll see a random penguin species. Refresh the tab to get another random penguin."
   ]
  },
  {
   "cell_type": "code",
   "execution_count": null,
   "metadata": {},
   "outputs": [],
   "source": [
    "import random\n",
    "\n",
    "from fastapi import FastAPI\n",
    "import uvicorn\n",
    "\n",
    "app = FastAPI()\n",
    "\n",
    "@app.get('/')\n",
    "def random_penguin():\n",
    "    \"\"\"Return a random penguin species\"\"\"\n",
    "    species = random.choice(['Adelie', 'Chinstrap', 'Gentoo'])\n",
    "    return species\n",
    "\n",
    "enable_cloud_notebook()\n",
    "uvicorn.run(app)"
   ]
  },
  {
   "cell_type": "markdown",
   "metadata": {},
   "source": [
    "Every time you refresh you see it in the web logs above. The app is up on the public internet for anyone to access, but only while this cell in this notebook is running."
   ]
  },
  {
   "cell_type": "markdown",
   "metadata": {},
   "source": [
    "In this notebook, stop the cell from running now."
   ]
  },
  {
   "cell_type": "markdown",
   "metadata": {},
   "source": [
    "Next we'll add an app `title`, change the `docs_url` parameter, and change the path to `/random` for the `random_penguin` function.\n",
    "\n",
    "Run the cell and click the new Public URL."
   ]
  },
  {
   "cell_type": "code",
   "execution_count": null,
   "metadata": {},
   "outputs": [],
   "source": [
    "import random\n",
    "\n",
    "from fastapi import FastAPI\n",
    "import uvicorn\n",
    "\n",
    "app = FastAPI(\n",
    "    title='🐧 Penguin predictor API',\n",
    "    docs_url='/'\n",
    ")\n",
    "\n",
    "@app.get('/random')\n",
    "def random_penguin():\n",
    "    \"\"\"Return a random penguin species\"\"\"\n",
    "    species = random.choice(['Adelie', 'Chinstrap', 'Gentoo'])\n",
    "    return species\n",
    "\n",
    "enable_cloud_notebook()\n",
    "uvicorn.run(app)"
   ]
  },
  {
   "cell_type": "markdown",
   "metadata": {},
   "source": [
    "Now you'll see automatically generated documentation. It's interactive too! \n",
    "\n",
    "Click on \"/random\", then the \"Try It Out\" button, then the \"Execute\" button. Scroll down to the \"Server response.\" You'll see \"Response body\" with a penguin species, and \"Code\" with 200 which is a successful [status code](https://developer.mozilla.org/en-US/docs/Web/HTTP/Status)."
   ]
  },
  {
   "cell_type": "markdown",
   "metadata": {},
   "source": [
    "Or change the end of the URL to `/random` and you can use the API directly."
   ]
  },
  {
   "cell_type": "markdown",
   "metadata": {},
   "source": [
    "You access your API with code like this, from another notebook or Python shell. Replace the url with your own dynamically generated ngrok URL.\n",
    "\n",
    "```python\n",
    "import requests\n",
    "url = 'http://9571e5899f73.ngrok.io/random'\n",
    "response = requests.get(url)\n",
    "print(response.status_code, response.text)\n",
    "```"
   ]
  },
  {
   "cell_type": "markdown",
   "metadata": {},
   "source": [
    "Then stop the cell above from running like before."
   ]
  },
  {
   "cell_type": "markdown",
   "metadata": {},
   "source": [
    "## Part 2, real predictions, POST request"
   ]
  },
  {
   "cell_type": "markdown",
   "metadata": {},
   "source": [
    "Okay, now let's work on adding our model to make real predictions."
   ]
  },
  {
   "cell_type": "markdown",
   "metadata": {},
   "source": [
    "To make a prediction, we need penguin measurements, which we'll receive as [JSON](https://developer.mozilla.org/en-US/docs/Learn/JavaScript/Objects/JSON): \n",
    "\n",
    "> JavaScript Object Notation (JSON) is a standard text-based format for representing structured data based on JavaScript object syntax. It is commonly used for transmitting data in web applications (e.g., sending some data from the server to the client, so it can be displayed on a web page, or vice versa). You'll come across it quite often ... it can be used independently from JavaScript, and many programming environments feature the ability to read (parse) and generate JSON."
   ]
  },
  {
   "cell_type": "markdown",
   "metadata": {},
   "source": [
    "JSON looks a lot like a Python dictionary, like this example:"
   ]
  },
  {
   "cell_type": "code",
   "execution_count": null,
   "metadata": {},
   "outputs": [],
   "source": [
    "gary_gentoo = {\"bill_length_mm\": 45, \"bill_depth_mm\": 15}"
   ]
  },
  {
   "cell_type": "markdown",
   "metadata": {},
   "source": [
    "How do we go from JSON / dictionary format to something our model can use?\n",
    "\n",
    "We need a Numpy array or a Pandas dataframe, with two columns (for our two features) and one row (for our one observation that we want to predict). We can make a dataframe from a list of dicts, like this:"
   ]
  },
  {
   "cell_type": "code",
   "execution_count": null,
   "metadata": {},
   "outputs": [],
   "source": [
    "import pandas as pd\n",
    "pd.DataFrame([gary_gentoo])"
   ]
  },
  {
   "cell_type": "markdown",
   "metadata": {},
   "source": [
    "When we use this dataframe with our classifier's predict method, we get the correct result."
   ]
  },
  {
   "cell_type": "code",
   "execution_count": null,
   "metadata": {},
   "outputs": [],
   "source": [
    "import pandas as pd\n",
    "df = pd.DataFrame([gary_gentoo])\n",
    "classifier.predict(df)"
   ]
  },
  {
   "cell_type": "markdown",
   "metadata": {},
   "source": [
    "The predict method returns a Numpy array with all our predictions. But we're just making a single prediction, so we want the \"zeroeth\" item from the array. Putting it all together, we could write a function like this:"
   ]
  },
  {
   "cell_type": "code",
   "execution_count": null,
   "metadata": {},
   "outputs": [],
   "source": [
    "def predict_species(penguin: dict):\n",
    "    \"\"\"Predict penguin species\"\"\"\n",
    "    df = pd.DataFrame([penguin])\n",
    "    species = classifier.predict(df)\n",
    "    return species[0]"
   ]
  },
  {
   "cell_type": "code",
   "execution_count": null,
   "metadata": {},
   "outputs": [],
   "source": [
    "predict_species(gary_gentoo)"
   ]
  },
  {
   "cell_type": "markdown",
   "metadata": {},
   "source": [
    "Here's another example."
   ]
  },
  {
   "cell_type": "code",
   "execution_count": null,
   "metadata": {},
   "outputs": [],
   "source": [
    "amy_adelie = {\"bill_length_mm\": 35, \"bill_depth_mm\": 18}\n",
    "predict_species(amy_adelie)"
   ]
  },
  {
   "cell_type": "markdown",
   "metadata": {},
   "source": [
    "We'll add the function to our FastAPI app using a decorator. The decorator tells FastAPI to call the function whenever the app receives a request to the `/predict` path using the [HTTP POST method](https://developer.mozilla.org/en-US/docs/Web/HTTP/Methods/POST). FastAPI will automatically parse the request body's JSON to a Python dict named `penguin`.\n",
    "\n",
    "```python\n",
    "@app.post('/predict')\n",
    "def predict_species(penguin: dict):\n",
    "    ...\n",
    "```\n",
    "\n",
    "We'll also add a more descriptive `description` parameter to the app. Putting it all together:"
   ]
  },
  {
   "cell_type": "code",
   "execution_count": null,
   "metadata": {},
   "outputs": [],
   "source": [
    "import random\n",
    "\n",
    "from fastapi import FastAPI\n",
    "import pandas as pd\n",
    "import uvicorn\n",
    "\n",
    "app = FastAPI(\n",
    "    title='🐧 Penguin predictor API', \n",
    "    description='Deploys a logistic regression model fit on the [Palmer Penguins](https://github.com/allisonhorst/palmerpenguins) dataset.', \n",
    "    docs_url='/'\n",
    ")\n",
    "\n",
    "\n",
    "@app.post('/predict')\n",
    "def predict_species(penguin: dict):\n",
    "    \"\"\"Predict penguin species\"\"\"\n",
    "    df = pd.DataFrame([penguin])\n",
    "    species = classifier.predict(df)\n",
    "    return species[0]\n",
    "\n",
    "\n",
    "@app.get('/random')\n",
    "def random_penguin():\n",
    "    \"\"\"Return a random penguin species\"\"\"\n",
    "    species = random.choice(['Adelie', 'Chinstrap', 'Gentoo'])\n",
    "    return species\n",
    "\n",
    "\n",
    "enable_cloud_notebook()\n",
    "uvicorn.run(app)"
   ]
  },
  {
   "cell_type": "markdown",
   "metadata": {},
   "source": [
    "\n",
    "Run the cell above, then try an example:\n",
    "\n",
    "- Click the \"Try it out\" button.\n",
    "- The \"Request body\" text field becomes editable. Copy-paste Gary Gentoo's measurements into the field: `{\"bill_length_mm\": 45, \"bill_depth_mm\": 15}`\n",
    "- Click the \"Execute\" button, then scroll down to the \"Server response.\" You should see the species \"Gentoo\" correctly classified.\n",
    "\n",
    "Try another example:\n",
    "\n",
    "- Copy-paste Amy Adelie's measurements into the \"Request body\" text field: `{\"bill_length_mm\": 35, \"bill_depth_mm\": 18}`\n",
    "- Click the \"Execute\" button. You should see the species \"Adelie\" correctly classified.\n",
    "\n",
    "But what happens if you change your \"Request body\" to something unexpected?\n",
    "- What if your input doesn't have exactly two keys, `bill_length_mm` and `bill_depth_mm`, in that order?\n",
    "- What if your input values are zero? Huge numbers? Negative numbers? Not a number?\n",
    "\n",
    "We aren't validating input yet. We just assume the API users give valid input. That's a dangerous assumption. When the inputs aren't valid, the app may respond with a Server Error instead of helpful warnings. Or worse, the app seems to work and returns a response, but because the inputs were flawed, the output is flawed too. \"Garbage in, garbage out.\""
   ]
  },
  {
   "cell_type": "markdown",
   "metadata": {},
   "source": [
    "Stop the cell above from running. Next we'll add data validation."
   ]
  },
  {
   "cell_type": "markdown",
   "metadata": {},
   "source": [
    "## Part 3, Data validation"
   ]
  },
  {
   "cell_type": "markdown",
   "metadata": {},
   "source": [
    "Look at the type annotation for the `predict_species` function's argument. The function accepts any `dict`. \n",
    "\n",
    "```python\n",
    "@app.post('/predict')\n",
    "def predict_species(penguin: dict):\n",
    "    ...\n",
    "```\n",
    "\n",
    "We'll change this so the function expects an argument of type `Penguin`.\n",
    "\n",
    "```python\n",
    "class Penguin:\n",
    "    \"\"\"Parse & validate penguin measurements\"\"\"\n",
    "    ...\n",
    "\n",
    "@app.post('/predict')\n",
    "def predict_species(penguin: Penguin):\n",
    "    ...\n",
    "```"
   ]
  },
  {
   "cell_type": "markdown",
   "metadata": {},
   "source": [
    "We'll create a `Penguin` [data class](https://docs.python.org/3/library/dataclasses.html) with [type annotations](https://docs.python.org/3/library/typing.html) to define what attributes we expect our input to have. We'll use [Pydantic](https://pydantic-docs.helpmanual.io/), a data validation library integrated with FastAPI. It sounds complex, but it's just a few lines of code! "
   ]
  },
  {
   "cell_type": "code",
   "execution_count": null,
   "metadata": {},
   "outputs": [],
   "source": [
    "from pydantic import BaseModel\n",
    "\n",
    "class Penguin(BaseModel):\n",
    "    \"\"\"Parse & validate penguin measurements\"\"\"\n",
    "    bill_length_mm: float\n",
    "    bill_depth_mm: float"
   ]
  },
  {
   "cell_type": "markdown",
   "metadata": {},
   "source": [
    "We can instantiate a penguin object like this:"
   ]
  },
  {
   "cell_type": "code",
   "execution_count": null,
   "metadata": {},
   "outputs": [],
   "source": [
    "Penguin(bill_length_mm=45, bill_depth_mm=15)"
   ]
  },
  {
   "cell_type": "markdown",
   "metadata": {},
   "source": [
    "Or like this, by unpacking our dictionary into parameters:"
   ]
  },
  {
   "cell_type": "code",
   "execution_count": null,
   "metadata": {},
   "outputs": [],
   "source": [
    "Penguin(**gary_gentoo)"
   ]
  },
  {
   "cell_type": "markdown",
   "metadata": {},
   "source": [
    "Now let's see what happens with missing input:"
   ]
  },
  {
   "cell_type": "code",
   "execution_count": null,
   "metadata": {},
   "outputs": [],
   "source": [
    "missing_input = {\"bill_length_mm\": 45}\n",
    "Penguin(**missing_input)"
   ]
  },
  {
   "cell_type": "markdown",
   "metadata": {},
   "source": [
    "We automatically get a `ValidationError` with a helpful, descriptive error message. That's what we want in this situation!"
   ]
  },
  {
   "cell_type": "markdown",
   "metadata": {},
   "source": [
    "Next we'll try a misnamed input (`bill_depth` instead of `bill_depth_mm`)"
   ]
  },
  {
   "cell_type": "code",
   "execution_count": null,
   "metadata": {},
   "outputs": [],
   "source": [
    "wrong_name = {\"bill_length_mm\": 45, \"bill_depth\": 15}\n",
    "Penguin(**wrong_name)"
   ]
  },
  {
   "cell_type": "markdown",
   "metadata": {},
   "source": [
    "Again, we get a `ValidationError`, which is want we want here."
   ]
  },
  {
   "cell_type": "markdown",
   "metadata": {},
   "source": [
    "Let's try an input with the wrong type, such as a string instead of a number."
   ]
  },
  {
   "cell_type": "code",
   "execution_count": null,
   "metadata": {},
   "outputs": [],
   "source": [
    "wrong_type = {\"bill_length_mm\": 45, \"bill_depth_mm\": \"Hello Penguins!\"}\n",
    "Penguin(**wrong_type)"
   ]
  },
  {
   "cell_type": "markdown",
   "metadata": {},
   "source": [
    "We get a different `ValidationError` because the value is not a valid float."
   ]
  },
  {
   "cell_type": "markdown",
   "metadata": {},
   "source": [
    "Let's try a different string:"
   ]
  },
  {
   "cell_type": "code",
   "execution_count": null,
   "metadata": {},
   "outputs": [],
   "source": [
    "convertable_type = {\"bill_length_mm\": 45, \"bill_depth_mm\": \"15\"}\n",
    "Penguin(**convertable_type)"
   ]
  },
  {
   "cell_type": "markdown",
   "metadata": {},
   "source": [
    "This works because the string can be converted to a float. "
   ]
  },
  {
   "cell_type": "markdown",
   "metadata": {},
   "source": [
    "If we add an extra input ..."
   ]
  },
  {
   "cell_type": "code",
   "execution_count": null,
   "metadata": {},
   "outputs": [],
   "source": [
    "extra_input = {\"bill_length_mm\": 45, \"bill_depth_mm\": 15, \"extra_feature\": \"will be ignored\"}\n",
    "Penguin(**extra_input)"
   ]
  },
  {
   "cell_type": "markdown",
   "metadata": {},
   "source": [
    "... it will be ignored."
   ]
  },
  {
   "cell_type": "markdown",
   "metadata": {},
   "source": [
    "If we flip the order of inputs ..."
   ]
  },
  {
   "cell_type": "code",
   "execution_count": null,
   "metadata": {},
   "outputs": [],
   "source": [
    "flipped_order = {\"bill_depth_mm\": 15, \"bill_length_mm\": 45}\n",
    "Penguin(**flipped_order)"
   ]
  },
  {
   "cell_type": "markdown",
   "metadata": {},
   "source": [
    "... they'll be flipped back."
   ]
  },
  {
   "cell_type": "markdown",
   "metadata": {},
   "source": [
    "What about penguin measurements that are implausibly large or small? We can use \"constrained floats\" to catch this.\n",
    "\n",
    "We'll set constraints that each input must be greater than (`gt`) some minimum and less than (`lt`) some maximum."
   ]
  },
  {
   "cell_type": "code",
   "execution_count": null,
   "metadata": {},
   "outputs": [],
   "source": [
    "from pydantic import confloat\n",
    "help(confloat)"
   ]
  },
  {
   "cell_type": "markdown",
   "metadata": {},
   "source": [
    "First, let's look at the minimum and maximum measurements from our training data:"
   ]
  },
  {
   "cell_type": "code",
   "execution_count": null,
   "metadata": {},
   "outputs": [],
   "source": [
    "X.describe()"
   ]
  },
  {
   "cell_type": "markdown",
   "metadata": {},
   "source": [
    "Then, set some reasonable constraints:"
   ]
  },
  {
   "cell_type": "code",
   "execution_count": null,
   "metadata": {},
   "outputs": [],
   "source": [
    "from pydantic import BaseModel, confloat\n",
    "\n",
    "class Penguin(BaseModel):\n",
    "    \"\"\"Parse & validate penguin measurements\"\"\"\n",
    "    bill_length_mm: confloat(gt=32, lt=60)\n",
    "    bill_depth_mm: confloat(gt=13, lt=22)"
   ]
  },
  {
   "cell_type": "markdown",
   "metadata": {},
   "source": [
    "Now when inputs are too large or small, we get a `ValidationError` with descriptive messages."
   ]
  },
  {
   "cell_type": "code",
   "execution_count": null,
   "metadata": {},
   "outputs": [],
   "source": [
    "huge_penguin = {\"bill_depth_mm\": 1500, \"bill_length_mm\": 4500}\n",
    "Penguin(**huge_penguin)"
   ]
  },
  {
   "cell_type": "code",
   "execution_count": null,
   "metadata": {},
   "outputs": [],
   "source": [
    "zero_penguin = {\"bill_depth_mm\": 0, \"bill_length_mm\": 0}\n",
    "Penguin(**zero_penguin)"
   ]
  },
  {
   "cell_type": "code",
   "execution_count": null,
   "metadata": {},
   "outputs": [],
   "source": [
    "negative_penguin = {\"bill_depth_mm\": -45, \"bill_length_mm\": -15}\n",
    "Penguin(**negative_penguin)"
   ]
  },
  {
   "cell_type": "markdown",
   "metadata": {},
   "source": [
    "One more thing. Let's add a helpful method to our class:"
   ]
  },
  {
   "cell_type": "code",
   "execution_count": null,
   "metadata": {},
   "outputs": [],
   "source": [
    "from pydantic import BaseModel, confloat\n",
    "\n",
    "class Penguin(BaseModel):\n",
    "    \"\"\"Parse & validate penguin measurements\"\"\"\n",
    "    bill_length_mm: confloat(gt=32, lt=60)\n",
    "    bill_depth_mm: confloat(gt=13, lt=22)\n",
    "\n",
    "    def to_df(self):\n",
    "        \"\"\"Convert to pandas dataframe with 1 row.\"\"\"\n",
    "        return pd.DataFrame([dict(self)])"
   ]
  },
  {
   "cell_type": "markdown",
   "metadata": {},
   "source": [
    "Now we can validate JSON input and convert it to a pandas dataframe with one line of code."
   ]
  },
  {
   "cell_type": "code",
   "execution_count": null,
   "metadata": {},
   "outputs": [],
   "source": [
    "Penguin(**gary_gentoo).to_df()"
   ]
  },
  {
   "cell_type": "markdown",
   "metadata": {},
   "source": [
    "Let's put this all together in our FastAPI code.\n",
    "\n",
    "- Add the `Penguin` class.\n",
    "- Change the type annotation for the `predict_species` function argument. Instead of `dict`, the type is now `Penguin`.\n",
    "- When a POST request is made to the `/predict` path, then FastAPI will automatically validate and parse the request body's JSON into a `Penguin` object.\n",
    "- Use the penguin's `to_df` method to convert into a dataframe for our model."
   ]
  },
  {
   "cell_type": "code",
   "execution_count": null,
   "metadata": {},
   "outputs": [],
   "source": [
    "import random\n",
    "\n",
    "from fastapi import FastAPI\n",
    "import pandas as pd\n",
    "from pydantic import BaseModel, confloat\n",
    "import uvicorn\n",
    "\n",
    "app = FastAPI(\n",
    "    title='🐧 Penguin predictor API', \n",
    "    description='Deploys a logistic regression model fit on the [Palmer Penguins](https://github.com/allisonhorst/palmerpenguins) dataset.', \n",
    "    docs_url='/'\n",
    ")\n",
    "\n",
    "\n",
    "class Penguin(BaseModel):\n",
    "    \"\"\"Parse & validate penguin measurements\"\"\"\n",
    "    bill_length_mm: confloat(gt=32, lt=60)\n",
    "    bill_depth_mm: confloat(gt=13, lt=22)\n",
    "\n",
    "    def to_df(self):\n",
    "        \"\"\"Convert to pandas dataframe with 1 row.\"\"\"\n",
    "        return pd.DataFrame([dict(self)])\n",
    "\n",
    "\n",
    "@app.post('/predict')\n",
    "def predict_species(penguin: Penguin):\n",
    "    \"\"\"Predict penguin species from bill length & depth\n",
    "    \n",
    "    Parameters\n",
    "    ----------\n",
    "    bill_length_mm : float, greater than 32, less than 60  \n",
    "    bill_depth_mm : float, greater than 13, less than 22  \n",
    "\n",
    "    Returns\n",
    "    -------\n",
    "    str \"Adelie\", \"Chinstrap\", or \"Gentoo\"  \n",
    "    \"\"\"\n",
    "    species = classifier.predict(penguin.to_df())\n",
    "    return species[0]\n",
    "\n",
    "\n",
    "@app.get('/random')\n",
    "def random_penguin():\n",
    "    \"\"\"Return a random penguin species\"\"\"\n",
    "    species = random.choice(['Adelie', 'Chinstrap', 'Gentoo'])\n",
    "    return species\n",
    "\n",
    "\n",
    "enable_cloud_notebook()\n",
    "uvicorn.run(app)"
   ]
  },
  {
   "cell_type": "markdown",
   "metadata": {},
   "source": [
    "Test the app, then stop the cell from running."
   ]
  },
  {
   "cell_type": "markdown",
   "metadata": {},
   "source": [
    "## Part -1, Deploy"
   ]
  },
  {
   "cell_type": "markdown",
   "metadata": {},
   "source": [
    "Let's save the model so you can use it without retraining. This is sometimes called \"pickling.\" See [scikit-learn docs on \"model persistence.\"](https://scikit-learn.org/stable/modules/model_persistence.html)"
   ]
  },
  {
   "cell_type": "code",
   "execution_count": null,
   "metadata": {},
   "outputs": [],
   "source": [
    "from joblib import dump\n",
    "dump(classifier, 'classifier.joblib', compress=True)"
   ]
  },
  {
   "cell_type": "markdown",
   "metadata": {},
   "source": [
    "Now even if we delete the object from memory ..."
   ]
  },
  {
   "cell_type": "code",
   "execution_count": null,
   "metadata": {},
   "outputs": [],
   "source": [
    "del classifier"
   ]
  },
  {
   "cell_type": "markdown",
   "metadata": {},
   "source": [
    "We can reload from our file ..."
   ]
  },
  {
   "cell_type": "code",
   "execution_count": null,
   "metadata": {},
   "outputs": [],
   "source": [
    "from joblib import load\n",
    "classifier = load('classifier.joblib')"
   ]
  },
  {
   "cell_type": "markdown",
   "metadata": {},
   "source": [
    "... and it's back, ready to use:"
   ]
  },
  {
   "cell_type": "code",
   "execution_count": null,
   "metadata": {},
   "outputs": [],
   "source": [
    "from sklearn import set_config\n",
    "set_config(display='diagram')\n",
    "classifier"
   ]
  },
  {
   "cell_type": "markdown",
   "metadata": {},
   "source": [
    "If you're using a cloud notebook, you can get a link to download the file using code like this:"
   ]
  },
  {
   "cell_type": "code",
   "execution_count": null,
   "metadata": {},
   "outputs": [],
   "source": [
    "from IPython.display import FileLink\n",
    "FileLink('classifier.joblib')"
   ]
  },
  {
   "cell_type": "markdown",
   "metadata": {},
   "source": [
    "This last code cell has 3 changes from the previous iteration:\n",
    "\n",
    "- Loads the model with joblib\n",
    "- Adds image HTML tags in the app's description\n",
    "- Configures [CORS (Cross-Origin Resource Sharing)](https://fastapi.tiangolo.com/tutorial/cors/) so your API could be called by apps on different domains."
   ]
  },
  {
   "cell_type": "code",
   "execution_count": null,
   "metadata": {},
   "outputs": [],
   "source": [
    "import random\n",
    "\n",
    "from fastapi import FastAPI\n",
    "from fastapi.middleware.cors import CORSMiddleware\n",
    "from joblib import load\n",
    "import pandas as pd\n",
    "from pydantic import BaseModel, confloat\n",
    "import uvicorn\n",
    "\n",
    "description = \"\"\"\n",
    "Deploys a logistic regression model fit on the [Palmer Penguins](https://github.com/allisonhorst/palmerpenguins) dataset.\n",
    "\n",
    "<img src=\"https://raw.githubusercontent.com/allisonhorst/palmerpenguins/master/man/figures/lter_penguins.png\" width=\"40%\" /> <img src=\"https://raw.githubusercontent.com/allisonhorst/palmerpenguins/master/man/figures/culmen_depth.png\" width=\"30%\" />\n",
    "\n",
    "Artwork by [@allison_horst](https://twitter.com/allison_horst)\n",
    "\"\"\"\n",
    "\n",
    "app = FastAPI(\n",
    "    title='🐧 Penguin predictor API',\n",
    "    description=description, \n",
    "    docs_url='/'\n",
    ")\n",
    "\n",
    "app.add_middleware(\n",
    "    CORSMiddleware,\n",
    "    allow_origins=['*'],\n",
    "    allow_methods=['*']\n",
    ")\n",
    "\n",
    "classifier = load('classifier.joblib')\n",
    "\n",
    "\n",
    "class Penguin(BaseModel):\n",
    "    \"\"\"Parse & validate penguin measurements\"\"\"\n",
    "    bill_length_mm: confloat(gt=32, lt=60)\n",
    "    bill_depth_mm: confloat(gt=13, lt=22)\n",
    "\n",
    "    def to_df(self):\n",
    "        \"\"\"Convert to pandas dataframe with 1 row.\"\"\"\n",
    "        return pd.DataFrame([dict(self)])\n",
    "\n",
    "\n",
    "@app.post('/predict')\n",
    "def predict_species(penguin: Penguin):\n",
    "    \"\"\"Predict penguin species from bill length & depth\n",
    "    \n",
    "    Parameters\n",
    "    ----------\n",
    "    bill_length_mm : float, greater than 32, less than 60  \n",
    "    bill_depth_mm : float, greater than 13, less than 22  \n",
    "\n",
    "    Returns\n",
    "    -------\n",
    "    str \"Adelie\", \"Chinstrap\", or \"Gentoo\"  \n",
    "    \"\"\"\n",
    "    species = classifier.predict(penguin.to_df())\n",
    "    return species[0]\n",
    "\n",
    "\n",
    "@app.get('/random')\n",
    "def random_penguin():\n",
    "    \"\"\"Return a random penguin species\"\"\"\n",
    "    species = random.choice(['Adelie', 'Chinstrap', 'Gentoo'])\n",
    "    return species\n",
    "\n",
    "\n",
    "enable_cloud_notebook()\n",
    "uvicorn.run(app)"
   ]
  },
  {
   "cell_type": "markdown",
   "metadata": {},
   "source": [
    "We've prototyped a complete working web app, running from a notebook. We're ready to deploy!\n",
    "\n",
    "Do you want to take this last step and go beyond the notebook? See the README in this repo for instructions how to deploy to Heroku, a popular cloud platform."
   ]
  },
  {
   "cell_type": "markdown",
   "metadata": {},
   "source": [
    "## Learn more\n",
    "\n",
    "Want to learn more about FastAPI? I recommend these links:\n",
    "\n",
    "- [Build a machine learning API from scratch](https://youtu.be/1zMQBe0l1bM) by Sebastián Ramírez, FastAPI's creator\n",
    "- [calmcode.io — FastAPI videos](https://calmcode.io/fastapi/hello-world.html) by Vincent D. Warmerdam\n",
    "- [FastAPI for Flask Users](https://amitness.com/2020/06/fastapi-vs-flask/) by Amit Chaudhary\n",
    "- [FastAPI official docs](https://fastapi.tiangolo.com/)\n",
    "- [testdriven.io — FastAPI blog posts](https://testdriven.io/blog/topics/fastapi/)"
   ]
  }
 ],
 "metadata": {
  "kernelspec": {
   "display_name": "fastapi-jupytercon-2020",
   "language": "python",
   "name": "fastapi-jupytercon-2020"
  },
  "language_info": {
   "codemirror_mode": {
    "name": "ipython",
    "version": 3
   },
   "file_extension": ".py",
   "mimetype": "text/x-python",
   "name": "python",
   "nbconvert_exporter": "python",
   "pygments_lexer": "ipython3",
   "version": "3.7.7"
  }
 },
 "nbformat": 4,
 "nbformat_minor": 4
}
